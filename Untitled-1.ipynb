{
 "cells": [
  {
   "cell_type": "code",
   "execution_count": 14,
   "metadata": {},
   "outputs": [
    {
     "name": "stdout",
     "output_type": "stream",
     "text": [
      "Requirement already satisfied: rectpack in c:\\users\\sanja\\appdata\\local\\programs\\python\\python310\\lib\\site-packages (0.2.2)\n",
      "Note: you may need to restart the kernel to use updated packages.\n"
     ]
    },
    {
     "name": "stderr",
     "output_type": "stream",
     "text": [
      "\n",
      "[notice] A new release of pip available: 22.2.2 -> 22.3.1\n",
      "[notice] To update, run: python.exe -m pip install --upgrade pip\n"
     ]
    }
   ],
   "source": [
    "pip install rectpack"
   ]
  },
  {
   "cell_type": "code",
   "execution_count": 15,
   "metadata": {},
   "outputs": [
    {
     "name": "stdout",
     "output_type": "stream",
     "text": [
      "Note: you may need to restart the kernel to use updated packages.\n"
     ]
    },
    {
     "name": "stderr",
     "output_type": "stream",
     "text": [
      "\n",
      "[notice] A new release of pip available: 22.2.2 -> 22.3.1\n",
      "[notice] To update, run: python.exe -m pip install --upgrade pip\n"
     ]
    },
    {
     "name": "stdout",
     "output_type": "stream",
     "text": [
      "Requirement already satisfied: matplotlib in c:\\users\\sanja\\appdata\\local\\programs\\python\\python310\\lib\\site-packages (3.6.2)\n",
      "Requirement already satisfied: contourpy>=1.0.1 in c:\\users\\sanja\\appdata\\local\\programs\\python\\python310\\lib\\site-packages (from matplotlib) (1.0.6)\n",
      "Requirement already satisfied: fonttools>=4.22.0 in c:\\users\\sanja\\appdata\\local\\programs\\python\\python310\\lib\\site-packages (from matplotlib) (4.38.0)\n",
      "Requirement already satisfied: numpy>=1.19 in c:\\users\\sanja\\appdata\\local\\programs\\python\\python310\\lib\\site-packages (from matplotlib) (1.23.2)\n",
      "Requirement already satisfied: python-dateutil>=2.7 in c:\\users\\sanja\\appdata\\local\\programs\\python\\python310\\lib\\site-packages (from matplotlib) (2.8.2)\n",
      "Requirement already satisfied: cycler>=0.10 in c:\\users\\sanja\\appdata\\local\\programs\\python\\python310\\lib\\site-packages (from matplotlib) (0.11.0)\n",
      "Requirement already satisfied: kiwisolver>=1.0.1 in c:\\users\\sanja\\appdata\\local\\programs\\python\\python310\\lib\\site-packages (from matplotlib) (1.4.4)\n",
      "Requirement already satisfied: packaging>=20.0 in c:\\users\\sanja\\appdata\\local\\programs\\python\\python310\\lib\\site-packages (from matplotlib) (21.3)\n",
      "Requirement already satisfied: pillow>=6.2.0 in c:\\users\\sanja\\appdata\\local\\programs\\python\\python310\\lib\\site-packages (from matplotlib) (9.2.0)\n",
      "Requirement already satisfied: pyparsing>=2.2.1 in c:\\users\\sanja\\appdata\\local\\programs\\python\\python310\\lib\\site-packages (from matplotlib) (3.0.9)\n",
      "Requirement already satisfied: six>=1.5 in c:\\users\\sanja\\appdata\\local\\programs\\python\\python310\\lib\\site-packages\\six-1.16.0-py3.10.egg (from python-dateutil>=2.7->matplotlib) (1.16.0)\n"
     ]
    }
   ],
   "source": [
    "pip install matplotlib"
   ]
  },
  {
   "cell_type": "code",
   "execution_count": 16,
   "metadata": {},
   "outputs": [],
   "source": [
    "import pandas as pd\n",
    "import numpy as np\n",
    "from rectpack import newPacker\n",
    "import rectpack.packer as packer\n",
    "import matplotlib.pyplot as plt\n",
    "\n",
    "# Initialize Model Parameters\n",
    "\n",
    "#-- Pallet Dimensions: 80 x 120 cm\n",
    "bx = 5 # Buffer x\n",
    "by = 5 # Buffer y\n",
    "pal_812 = [80 + bx, 120 + by]\n",
    "#-- Pallet Dimensions: 100 x 120 cm\n",
    "bx = 5 # Buffer x\n",
    "by = 5 # Buffer y\n",
    "pal_1012 = [100 + bx, 120 + by]\n",
    "\n",
    "# Container size\n",
    "bins20 = [(235, 590)] # 20' Container\n",
    "bins40 = [(235, 1203)] # 40' Container"
   ]
  },
  {
   "cell_type": "code",
   "execution_count": 17,
   "metadata": {},
   "outputs": [],
   "source": [
    "# Function Solver\n",
    "def solver(n_812, n_1012, bins):\n",
    "    # Pallets to load\n",
    "    rectangles = [pal_812 for i in range(n_812)] + [pal_1012 for i in range(n_1012)]\n",
    "    \n",
    "    # Build the Packer\n",
    "    pack = newPacker()\n",
    "\n",
    "    # Add the rectangles to packing queue\n",
    "    for r in rectangles:\n",
    "        pack.add_rect(*r)\n",
    "\n",
    "    # Add the bins where the rectangles will be placed\n",
    "    for b in bins:\n",
    "        pack.add_bin(*b)\n",
    "\n",
    "    # Start packing\n",
    "    pack.pack()\n",
    "    \n",
    "    # Full rectangle list with coordinates\n",
    "    all_rects = pack.rect_list()\n",
    "\n",
    "    # Pallets with dimensions\n",
    "    all_pals = [sorted([p[3], p[4]]) for p in all_rects]\n",
    "\n",
    "    # Count number of 80 x 120 / of 100 x 120\n",
    "    p_812, p_1012 = all_pals.count(pal_812), all_pals.count(pal_1012)\n",
    "    print(\"{:,}/{:,} Pallets 80 x 120 (cm) | {:,}/{:,} Pallets 100 x 120 (cm)\".format(p_812, n_812, p_1012, n_1012))\n",
    "    \n",
    "    return all_rects, all_pals"
   ]
  },
  {
   "cell_type": "code",
   "execution_count": 18,
   "metadata": {},
   "outputs": [],
   "source": [
    "def plot_solution(all_rects, pal_812, pal_1012):\n",
    "    # Plot\n",
    "    plt.figure(figsize=(10,10))\n",
    "    # Loop all rect\n",
    "    for rect in all_rects:\n",
    "        b, x, y, w, h, rid = rect\n",
    "        x1, x2, x3, x4, x5 = x, x+w, x+w, x, x\n",
    "        y1, y2, y3, y4, y5 = y, y, y+h, y+h,y\n",
    "\n",
    "        # Pallet type\n",
    "        if [w, h] == pal_812:\n",
    "            color = '--k'\n",
    "        else:\n",
    "            color = '--r'\n",
    "\n",
    "        plt.plot([x1,x2,x3,x4,x5],[y1,y2,y3,y4,y5], color)\n",
    "    \n",
    "    plt.show()"
   ]
  }
 ],
 "metadata": {
  "kernelspec": {
   "display_name": "Python 3.10.5 64-bit",
   "language": "python",
   "name": "python3"
  },
  "language_info": {
   "codemirror_mode": {
    "name": "ipython",
    "version": 3
   },
   "file_extension": ".py",
   "mimetype": "text/x-python",
   "name": "python",
   "nbconvert_exporter": "python",
   "pygments_lexer": "ipython3",
   "version": "3.10.5"
  },
  "orig_nbformat": 4,
  "vscode": {
   "interpreter": {
    "hash": "7ef8d2267904c9c96126d6e0cfab664e41f291f1029705d64b653fa75f88cbc8"
   }
  }
 },
 "nbformat": 4,
 "nbformat_minor": 2
}
